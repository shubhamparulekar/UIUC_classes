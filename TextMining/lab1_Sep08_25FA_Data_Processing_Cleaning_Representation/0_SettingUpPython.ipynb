{
 "cells": [
  {
   "cell_type": "markdown",
   "id": "ff227082",
   "metadata": {},
   "source": [
    "This is a guide to help you set up Python, Jupyter notebook, and other packages you will need on your system to engage in class lab activities. _You are NOT required to use Python for your assignments and projects._ However, because Python seems to be the most commonly used language for text mining/NLP these days, we will focus on it for practice."
   ]
  },
  {
   "cell_type": "markdown",
   "id": "993539b6",
   "metadata": {},
   "source": [
    "### 1. Download and install Conda environment for Python 3.12\n",
    "\n",
    "https://www.anaconda.com/download/\n",
    "\n",
    "Conda environment will help you manage and deploy packages/libraries more efficiently.\n",
    "\n",
    "To get started with conda, see [Conda Getting Started guide](https://docs.conda.io/projects/conda/en/latest/user-guide/getting-started.html). \n"
   ]
  },
  {
   "cell_type": "markdown",
   "id": "2d0803b0-bc3d-4c69-826f-1c6c128173d4",
   "metadata": {},
   "source": [
    "*Note that:*\n",
    "- On macOS, please run these commands in the Terminal app.\n",
    "- On Windows, please run them in Anaconda Prompt (or the equivalent command line tool that comes with Anaconda/Miniconda).\n",
    "\n",
    "- Do not run these commands inside Jupyter Notebook or JupyterLab; they must be executed in a system terminal."
   ]
  },
  {
   "cell_type": "markdown",
   "id": "7b8afe86",
   "metadata": {},
   "source": [
    "### 2. Create new conda environment for this class called _textmining_\n",
    "\n",
    "```conda create --name textmining python=3.12```\n"
   ]
  },
  {
   "cell_type": "markdown",
   "id": "c221d4e8",
   "metadata": {},
   "source": [
    "### 3. Activate environment\n",
    "\n",
    "Run either\n",
    "\n",
    "```source activate textmining```\n",
    "\n",
    "or \n",
    "\n",
    "```conda activate textmining```"
   ]
  },
  {
   "cell_type": "markdown",
   "id": "495b1490",
   "metadata": {},
   "source": [
    "### 4. Check version (should be 3.12)\n",
    "\n",
    "```python --version```"
   ]
  },
  {
   "cell_type": "markdown",
   "id": "7c55f450",
   "metadata": {},
   "source": [
    "### 5. Install packages\n",
    "Be sure to install these specific versions to make debugging easier for everyone in class.\n",
    "```\n",
    "conda install spacy=3.7.2\n",
    "conda install pandas=2.2.3\n",
    "conda install nltk=3.9.1\n",
    "conda install wordcloud=1.9.3\n",
    "conda install scikit-learn=1.5.2\n",
    "conda install gensim=4.3.3\n",
    "conda install seaborn=0.13.2\n",
    "conda install tabulate=0.9.0\n",
    "conda install pytorch=2.5.1\n",
    "conda install transformers=4.45.2\n",
    "conda install unidecode=1.3.8\n",
    "conda install xmltodict=0.13.0\n",
    "pip install sklearn_crfsuite\n",
    "\n",
    "```"
   ]
  },
  {
   "cell_type": "markdown",
   "id": "a7ab380c",
   "metadata": {},
   "source": [
    "### 6. Install spaCy English model\n",
    "\n",
    "```python -m spacy download en_core_web_sm```"
   ]
  },
  {
   "cell_type": "markdown",
   "id": "3a989442-765c-4094-996e-1c0d7f415f81",
   "metadata": {},
   "source": [
    "### 7. Add conda environment to jupyter notebook\n",
    "\n",
    "```sh\n",
    "conda install -c anaconda ipykernel\n",
    "python -m ipykernel install --user --name=textmining\n",
    "```"
   ]
  },
  {
   "cell_type": "markdown",
   "id": "3bab6f13",
   "metadata": {},
   "source": [
    "# Use Jupyter notebooks\n",
    "Most class exercises will be provided to you as Jupyter notebooks. To open a Jupyter Notebook in this setup, open up the terminal and navigate to the folder containing the notebook; then select “textmining” as the kernel in Jupyter Notebook to access these libraries:\n",
    "\n",
    "```sh\n",
    "jupyter notebook\n",
    "```\n",
    "\n",
    "If you're new to Jupyter notebooks, check out the tutorial here:\n",
    "\n",
    "https://www.dataquest.io/blog/jupyter-notebook-tutorial/\n",
    "\n",
    "Another tutorial to help you use conda enviornment in a Jupyter Notebook: \n",
    "\n",
    "https://saturncloud.io/blog/how-to-use-conda-environment-in-a-jupyter-notebook/\n"
   ]
  },
  {
   "cell_type": "markdown",
   "id": "cc383307",
   "metadata": {},
   "source": [
    "*** \n",
    "\n",
    "This guide has been adapted from [https://github.com/dbamman/anlp21/blob/main/0.setup](https://github.com/dbamman/anlp21/blob/main/0.setup). "
   ]
  }
 ],
 "metadata": {
  "kernelspec": {
   "display_name": "Python 3 (ipykernel)",
   "language": "python",
   "name": "python3"
  },
  "language_info": {
   "codemirror_mode": {
    "name": "ipython",
    "version": 3
   },
   "file_extension": ".py",
   "mimetype": "text/x-python",
   "name": "python",
   "nbconvert_exporter": "python",
   "pygments_lexer": "ipython3",
   "version": "3.12.11"
  }
 },
 "nbformat": 4,
 "nbformat_minor": 5
}
