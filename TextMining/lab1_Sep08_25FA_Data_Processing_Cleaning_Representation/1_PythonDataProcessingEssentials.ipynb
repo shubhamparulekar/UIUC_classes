{
 "cells": [
  {
   "cell_type": "markdown",
   "id": "03bdfb18",
   "metadata": {},
   "source": [
    "## Import Python Libraries "
   ]
  },
  {
   "cell_type": "code",
   "execution_count": null,
   "id": "44655db6",
   "metadata": {},
   "outputs": [],
   "source": [
    "# Import libraries here that you need for different processing steps\n",
    "import nltk\n",
    "import csv\n",
    "import spacy\n",
    "import pandas as pd"
   ]
  },
  {
   "cell_type": "markdown",
   "id": "92e050ea",
   "metadata": {},
   "source": [
    "## Functions to read data and convert it into dataframe"
   ]
  },
  {
   "cell_type": "code",
   "execution_count": null,
   "id": "39e75550",
   "metadata": {
    "scrolled": true
   },
   "outputs": [],
   "source": [
    "# Reading a dataset from a csv file into a dataframe. Run this cell to load the dataset in memory \n",
    "# and see shape and data types of the data.\n",
    "\n",
    "df1 = pd.read_csv('./Dataset/covid.csv')\n",
    "print(df1.dtypes)\n",
    "print(df1.shape)\n",
    "\n",
    "df1.head()"
   ]
  },
  {
   "cell_type": "code",
   "execution_count": null,
   "id": "794316ee",
   "metadata": {
    "scrolled": true
   },
   "outputs": [],
   "source": [
    "# Reading a dataset from a csv zip file into a dataframe. Run this cell to load the dataset in memory \n",
    "# and see shape and data types of the data.\n",
    "\n",
    "df2 = pd.read_csv('./Dataset/covid.csv.zip',\n",
    "                  compression='zip',encoding=\"UTF-8\", header=0, sep=',', quotechar='\"')\n",
    "\n",
    "print(df2.dtypes)\n",
    "print(df2.shape)\n",
    "\n",
    "df2.head()"
   ]
  },
  {
   "cell_type": "markdown",
   "id": "6f7bf54e",
   "metadata": {},
   "source": [
    "## Function to write data to a csv file"
   ]
  },
  {
   "cell_type": "code",
   "execution_count": null,
   "id": "94606023",
   "metadata": {},
   "outputs": [],
   "source": [
    "# Run this cell to save the subset of the dataframe to a csv file.\n",
    "subset = df2[0:2000]\n",
    "subset.to_csv('./Dataset/covid_subset.csv', index=None)"
   ]
  },
  {
   "cell_type": "markdown",
   "id": "bbaaf0e9",
   "metadata": {},
   "source": [
    "## Reading a CSV into a list for processing line by line"
   ]
  },
  {
   "cell_type": "code",
   "execution_count": null,
   "id": "228398d8",
   "metadata": {},
   "outputs": [],
   "source": [
    "import numpy as np\n",
    "# Run this cell to read the dataframe from a csv file into a list of list.\n",
    "\n",
    "with open('./Dataset/covid_subset.csv',encoding=\"UTF-8\") as f:\n",
    "    content = f.readlines()\n",
    "    \n",
    "lines = np.array(content) \n",
    "num_of_instances = lines.size\n",
    "\n",
    "print(num_of_instances)\n",
    "print(lines[0])\n",
    "print(lines[1])\n",
    "print(lines[2])"
   ]
  },
  {
   "cell_type": "markdown",
   "id": "5fb29b4a",
   "metadata": {},
   "source": [
    "## Data Exploration"
   ]
  },
  {
   "cell_type": "markdown",
   "id": "9771b931",
   "metadata": {},
   "source": [
    "### Length of text\n",
    "##### Identify the text column on which you have to apply text processing in the dataset"
   ]
  },
  {
   "cell_type": "code",
   "execution_count": null,
   "id": "34e4c8c2",
   "metadata": {
    "scrolled": true
   },
   "outputs": [],
   "source": [
    "# Run the cell to see the behaviour of the textual attributes in the dataset\n",
    "\n",
    "print(df1.OriginalTweet.str.len().max())"
   ]
  },
  {
   "cell_type": "markdown",
   "id": "015bacfc",
   "metadata": {},
   "source": [
    "### Describe data columns"
   ]
  },
  {
   "cell_type": "code",
   "execution_count": null,
   "id": "445797f8",
   "metadata": {},
   "outputs": [],
   "source": [
    "# Run the cell to see the behaviour of the attributes in the dataset. This information might or might not be meaningful\n",
    "# depending on the column\n",
    "\n",
    "df1.describe()"
   ]
  },
  {
   "cell_type": "markdown",
   "id": "d4d2712f",
   "metadata": {},
   "source": [
    "### Tokenize sentences"
   ]
  },
  {
   "cell_type": "code",
   "execution_count": null,
   "id": "09b83c77",
   "metadata": {},
   "outputs": [],
   "source": [
    "# Run this cell to see the Tweet in the sixth row of the dataset\n",
    "\n",
    "six_dialogue = df1.loc[6, \"OriginalTweet\"]\n",
    "print(six_dialogue)"
   ]
  },
  {
   "cell_type": "markdown",
   "id": "831c1986",
   "metadata": {},
   "source": [
    "#### Tokenize sentences using nltk"
   ]
  },
  {
   "cell_type": "code",
   "execution_count": null,
   "id": "4d2e5429",
   "metadata": {
    "scrolled": true
   },
   "outputs": [],
   "source": [
    "nltk.download('punkt_tab')"
   ]
  },
  {
   "cell_type": "code",
   "execution_count": null,
   "id": "e41d5cbe",
   "metadata": {},
   "outputs": [],
   "source": [
    "# Run this cell to see the Tweet in the six row of the dataset in the form of Tokens using nltk library\n",
    "\n",
    "from nltk.tokenize import sent_tokenize\n",
    "\n",
    "sent_tokenize(six_dialogue)"
   ]
  },
  {
   "cell_type": "markdown",
   "id": "e5e2ad1f",
   "metadata": {},
   "source": [
    "#### Tokenize sentences using spacy"
   ]
  },
  {
   "cell_type": "code",
   "execution_count": null,
   "id": "90d050f1",
   "metadata": {},
   "outputs": [],
   "source": [
    "# !python -m spacy download en"
   ]
  },
  {
   "cell_type": "code",
   "execution_count": null,
   "id": "67d5a1ec",
   "metadata": {},
   "outputs": [],
   "source": [
    "# Run this cell to see the Tweet in the first row of the dataset in the form of Tokens using another library\n",
    "\n",
    "from spacy.lang.en import English\n",
    "\n",
    "nlp = spacy.load(\"en_core_web_sm\")\n",
    "[sent.text for sent in nlp(six_dialogue).sents]"
   ]
  },
  {
   "cell_type": "markdown",
   "id": "69c25d5c",
   "metadata": {},
   "source": [
    "### Tokenize words"
   ]
  },
  {
   "cell_type": "code",
   "execution_count": null,
   "id": "b2644281",
   "metadata": {},
   "outputs": [],
   "source": [
    "# Run this cell to see the Tweet in the six row of the dataset\n",
    "\n",
    "six_dialogue = df1.loc[6, \"OriginalTweet\"]\n",
    "print(six_dialogue)"
   ]
  },
  {
   "cell_type": "markdown",
   "id": "2600f32f",
   "metadata": {},
   "source": [
    "#### Tokenize words using nltk"
   ]
  },
  {
   "cell_type": "code",
   "execution_count": null,
   "id": "4e9dcf17",
   "metadata": {},
   "outputs": [],
   "source": [
    "from nltk.tokenize import WordPunctTokenizer\n",
    "tok = WordPunctTokenizer()\n",
    "\n",
    "words = [x for x in tok.tokenize(six_dialogue)]\n",
    "print(words)"
   ]
  },
  {
   "cell_type": "markdown",
   "id": "ce31b020",
   "metadata": {},
   "source": [
    "#### Tokenize words using spacy"
   ]
  },
  {
   "cell_type": "code",
   "execution_count": null,
   "id": "a73fbd80",
   "metadata": {},
   "outputs": [],
   "source": [
    "from spacy.lang.en import English\n",
    "nlp = English()\n",
    "\n",
    "# Creating a Tokenizer with the default settings for English\n",
    "tokenizer = nlp.tokenizer\n",
    "doc = tokenizer(six_dialogue)\n",
    "words = [token.text for token in doc]\n",
    "print(words)"
   ]
  },
  {
   "cell_type": "markdown",
   "id": "bdbccdc0",
   "metadata": {},
   "source": [
    "### Word Clouds"
   ]
  },
  {
   "cell_type": "markdown",
   "id": "eb0e0511",
   "metadata": {},
   "source": [
    "Just a fancy way to see what all words appear in your textual columns. Run the below cells to see what words occurs in the Tweets. Don't worry about the code."
   ]
  },
  {
   "cell_type": "code",
   "execution_count": null,
   "id": "c0b2201e",
   "metadata": {},
   "outputs": [],
   "source": [
    "from wordcloud import WordCloud\n",
    "from wordcloud import ImageColorGenerator\n",
    "from wordcloud import STOPWORDS\n",
    "import matplotlib.pyplot as plt"
   ]
  },
  {
   "cell_type": "code",
   "execution_count": null,
   "id": "cbb887db",
   "metadata": {},
   "outputs": [],
   "source": [
    "text = \" \".join(str(i) for i in df1.OriginalTweet)\n",
    "stopwords = set(STOPWORDS)\n",
    "wordcloud = WordCloud(stopwords=stopwords, background_color=\"white\").generate(text)\n",
    "plt.figure( figsize=(15,10))\n",
    "plt.imshow(wordcloud, interpolation='bilinear')\n",
    "plt.axis(\"off\")\n",
    "plt.show()"
   ]
  },
  {
   "cell_type": "code",
   "execution_count": null,
   "id": "4f0ee79d-e44c-4fc7-86b5-9cb3acdd5b89",
   "metadata": {},
   "outputs": [],
   "source": []
  }
 ],
 "metadata": {
  "kernelspec": {
   "display_name": "textmining",
   "language": "python",
   "name": "textmining"
  },
  "language_info": {
   "codemirror_mode": {
    "name": "ipython",
    "version": 3
   },
   "file_extension": ".py",
   "mimetype": "text/x-python",
   "name": "python",
   "nbconvert_exporter": "python",
   "pygments_lexer": "ipython3",
   "version": "3.12.11"
  }
 },
 "nbformat": 4,
 "nbformat_minor": 5
}
